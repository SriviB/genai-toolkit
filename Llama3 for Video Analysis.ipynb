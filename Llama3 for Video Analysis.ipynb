{
 "cells": [
  {
   "cell_type": "code",
   "execution_count": 2,
   "metadata": {},
   "outputs": [],
   "source": [
    "import pytube\n",
    "from llama3 import Llama3\n",
    "from langchain import PromptTemplate, LLMChain"
   ]
  },
  {
   "cell_type": "code",
   "execution_count": 6,
   "metadata": {},
   "outputs": [],
   "source": [
    "# get transcript of youtube vid\n",
    "def get_transcript(vid_url):\n",
    "    yt_obj = pytube.YouTube(vid_url)\n",
    "    trans = yt_obj.captions.get_by_language_code('en') # english\n",
    "    if trans:\n",
    "        return trans.generate_srt_captions()\n",
    "    else:\n",
    "        raise ValueError(\"No transcript available\")"
   ]
  },
  {
   "cell_type": "code",
   "execution_count": 7,
   "metadata": {},
   "outputs": [],
   "source": [
    "# llama3 and langchain used to summarize transcript\n",
    "def summarize_trans(vid_trans):\n",
    "    model = Llama3(model_name='llama3')\n",
    "\n",
    "    prompt_tpl = PromptTemplate(\n",
    "        template=\"summarize the following text:\\n\\n{text}\\n\\nsummary:\",\n",
    "        input_variables=[\"text\"]\n",
    "    )\n",
    "\n",
    "    summ_chain = LLMChain(\n",
    "        llm=model,\n",
    "        prompt_template=prompt_tpl\n",
    "    )\n",
    "\n",
    "    return summ_chain.run(text=vid_trans)"
   ]
  },
  {
   "cell_type": "code",
   "execution_count": 15,
   "metadata": {},
   "outputs": [],
   "source": [
    "# feed query and get response from model\n",
    "def response(vid_trans, qry):\n",
    "    llm_model = Llama3(model_name='llama3')\n",
    "\n",
    "    # setup a prompt template for answering questions\n",
    "    prompt_tpl = PromptTemplate(\n",
    "        template=\"here is some text:\\n\\n{text}\\n\\nbased on the above text, answer this question:\\n\\nquestion: {question}\\n\\nanswer:\",\n",
    "        input_variables=[\"text\", \"question\"]\n",
    "    )\n",
    "\n",
    "    # create a chain for question answering\n",
    "    qa_chain = LLMChain(\n",
    "        llm=llm_model,\n",
    "        prompt_template=prompt_tpl\n",
    "    )\n",
    "\n",
    "    # generate the answer\n",
    "    ans = qa_chain.run(text=vid_trans, question=qry)\n",
    "    return ans"
   ]
  },
  {
   "cell_type": "code",
   "execution_count": 17,
   "metadata": {},
   "outputs": [],
   "source": [
    "# main function\n",
    "def main(vid_url, qry_list):\n",
    "    vid_trans = get_transcript(vid_url)\n",
    "\n",
    "    summ = summarize_trans(vid_trans)\n",
    "    print(\"summary of youtube video: \", summ)\n",
    "\n",
    "    for qry in qry_list:\n",
    "        print(f\"\\nquestion: {qry}\\nanswer: {response(vid_trans, qry)}\")"
   ]
  },
  {
   "cell_type": "code",
   "execution_count": 18,
   "metadata": {},
   "outputs": [
    {
     "name": "stdout",
     "output_type": "stream",
     "text": [
      "\n",
      "question: What does this video discuss?\n",
      "answer: This video explores the concept of machine learning, its distinctions from artificial intelligence (AI) and deep learning, and how businesses are currently utilizing it to enhance operations and drive innovation.\n",
      "\n",
      "question: Who is the speaker in the video?\n",
      "answer: The speaker in the video is Luv Aggarwal with IBM Cloud.\n",
      "\n",
      "question: Who is the target audience?\n",
      "answer: The target audience is not directly stated but may be professionals, business leaders, and individuals interested in understanding machine learning's applications and implications in modern industries.\n"
     ]
    }
   ],
   "source": [
    "video_url = \"https://www.youtube.com/watch?v=9gGnTQTYNaE\"\n",
    "questions = [\n",
    "    \"What does this video discuss?\",\n",
    "    \"Who is the speaker in the video?\",\n",
    "    \"Who is the target audience?\",\n",
    "]\n",
    "\n",
    "main(video_url, questions)"
   ]
  }
 ],
 "metadata": {
  "kernelspec": {
   "display_name": "Python 3 (ipykernel)",
   "language": "python",
   "name": "python3"
  },
  "language_info": {
   "codemirror_mode": {
    "name": "ipython",
    "version": 3
   },
   "file_extension": ".py",
   "mimetype": "text/x-python",
   "name": "python",
   "nbconvert_exporter": "python",
   "pygments_lexer": "ipython3",
   "version": "3.11.3"
  }
 },
 "nbformat": 4,
 "nbformat_minor": 2
}
