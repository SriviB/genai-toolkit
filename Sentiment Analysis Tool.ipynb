{
 "cells": [
  {
   "cell_type": "code",
   "execution_count": 7,
   "id": "732e6392-4e7d-4f43-a460-dc1fe7f8051a",
   "metadata": {},
   "outputs": [],
   "source": [
    "from transformers import pipeline\n",
    "import csv"
   ]
  },
  {
   "cell_type": "code",
   "execution_count": 8,
   "id": "de7e0dc4-f6b8-4a99-af3f-7c7724a1e845",
   "metadata": {},
   "outputs": [],
   "source": [
    "sentiment_model = pipeline(\"sentiment-analysis\")"
   ]
  },
  {
   "cell_type": "code",
   "execution_count": 9,
   "id": "3a9cdae8-7628-4cb0-b0d3-1e3084e1a79e",
   "metadata": {},
   "outputs": [],
   "source": [
    "def analyze_reviews(reviews):\n",
    "    return sentiment_model(reviews)"
   ]
  },
  {
   "cell_type": "code",
   "execution_count": 10,
   "id": "7be860eb-9ada-4b69-9cd5-b0c6ab13a1f9",
   "metadata": {},
   "outputs": [],
   "source": [
    "def get_user_reviews():\n",
    "    num_reviews = int(input(\"Num reviews: \"))\n",
    "    reviews = []\n",
    "    for _ in range(num_reviews):\n",
    "        review = input(\"Review: \")\n",
    "        reviews.append(review)\n",
    "    return reviews"
   ]
  },
  {
   "cell_type": "code",
   "execution_count": 12,
   "id": "7445ebb1-949c-46f9-b659-5fb65713fd73",
   "metadata": {},
   "outputs": [],
   "source": [
    "def display_results(reviews, results):\n",
    "    print(\"\")\n",
    "    for review, result in zip(reviews, results):\n",
    "        print(f\"Review: \\\"{review}\\\" | Sentiment: {result['label']} (Score: {round(result['score'], 4)})\")"
   ]
  },
  {
   "cell_type": "code",
   "execution_count": 15,
   "id": "d8c272b2-9d07-4898-8625-aab890a36104",
   "metadata": {},
   "outputs": [],
   "source": [
    "def summarize_results(results, num_reviews):\n",
    "    positive_count = sum(1 for result in results if result['label'] == 'POSITIVE')\n",
    "    negative_count = sum(1 for result in results if result['label'] == 'NEGATIVE')\n",
    "\n",
    "    print(\"\\nSummary:\")\n",
    "    print(f\"Total Reviews Analyzed: {num_reviews}\")\n",
    "    print(f\"Positive Reviews: {positive_count}\")\n",
    "    print(f\"Negative Reviews: {negative_count}\")"
   ]
  },
  {
   "cell_type": "code",
   "execution_count": 16,
   "id": "492cc455-216c-48e4-a7b7-0300a8247ec3",
   "metadata": {},
   "outputs": [],
   "source": [
    "def save_results_to_csv(reviews, results, filename=\"sentiment_analysis_results.csv\"):\n",
    "    with open(filename, mode='w', newline='', encoding='utf-8') as file:\n",
    "        writer = csv.writer(file)\n",
    "        writer.writerow([\"Review\", \"Sentiment\", \"Score\"])\n",
    "        for review, result in zip(reviews, results):\n",
    "            writer.writerow([review, result['label'], round(result['score'], 4)])\n",
    "\n",
    "    print(f\"Results saved to {filename}\")"
   ]
  },
  {
   "cell_type": "code",
   "execution_count": 22,
   "id": "75f0fd83-a224-48f5-a7e8-0adde6f75c39",
   "metadata": {},
   "outputs": [],
   "source": [
    "def main():\n",
    "    reviews = get_user_reviews()\n",
    "    results = analyze_reviews(reviews)\n",
    "    display_results(reviews, results)\n",
    "    summarize_results(results, len(reviews))\n",
    "    save_results_to_csv(reviews, results)"
   ]
  },
  {
   "cell_type": "code",
   "execution_count": 24,
   "id": "6fd635a6",
   "metadata": {},
   "outputs": [
    {
     "name": "stdout",
     "output_type": "stream",
     "text": [
      "Num reviews: 3\n",
      "Enter review: I really love this product\n",
      "Enter review: Overall pretty good use, did find some issues with packaging but no complaints\n",
      "Enter review: Hated it, absolutely would not go for it\n",
      "\n",
      "Review: \"I really love this product\" | Sentiment: POSITIVE (Score: 0.9999)\n",
      "Review: \"Overall pretty good use, did find some issues with packaging but no complaints\" | Sentiment: POSITIVE (Score: 0.9909)\n",
      "Review: \"Hated it, absolutely would not go for it\" | Sentiment: NEGATIVE (Score: 0.9992)\n",
      "\n",
      "Summary:\n",
      "Total Reviews Analyzed: 3\n",
      "Positive Reviews: 2\n",
      "Negative Reviews: 1\n",
      "Results saved to sentiment_analysis_results.csv\n"
     ]
    }
   ],
   "source": [
    "main()"
   ]
  }
 ],
 "metadata": {
  "kernelspec": {
   "display_name": "Python 3 (ipykernel)",
   "language": "python",
   "name": "python3"
  },
  "language_info": {
   "codemirror_mode": {
    "name": "ipython",
    "version": 3
   },
   "file_extension": ".py",
   "mimetype": "text/x-python",
   "name": "python",
   "nbconvert_exporter": "python",
   "pygments_lexer": "ipython3",
   "version": "3.11.3"
  }
 },
 "nbformat": 4,
 "nbformat_minor": 5
}
