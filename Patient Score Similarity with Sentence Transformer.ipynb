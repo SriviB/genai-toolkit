{
 "cells": [
  {
   "cell_type": "code",
   "execution_count": 15,
   "id": "bb21ccac-6606-48e7-aeaf-d0fb752b060b",
   "metadata": {},
   "outputs": [],
   "source": [
    "from sentence_transformers import SentenceTransformer\n",
    "import numpy as np"
   ]
  },
  {
   "cell_type": "code",
   "execution_count": 2,
   "id": "6e07b1c9-15b0-4876-b145-29d8d59b55bd",
   "metadata": {},
   "outputs": [],
   "source": [
    "model = SentenceTransformer(\"BAAI/bge-small-en-v1.5\")\n"
   ]
  },
  {
   "cell_type": "code",
   "execution_count": 4,
   "id": "42ad82b5",
   "metadata": {},
   "outputs": [],
   "source": [
    "def compute_similarity(patient1, patient2):\n",
    "    \"\"\"\n",
    "    Computes the similarity score between two patients based on their symptoms.\n",
    "    \"\"\"\n",
    "    embeddings_1 = model.encode(patient1, normalize_embeddings=True)\n",
    "    embeddings_2 = model.encode(patient2, normalize_embeddings=True)\n",
    "\n",
    "    similarity_score = embeddings_1 @ embeddings_2.T\n",
    "    return similarity_score"
   ]
  },
  {
   "cell_type": "code",
   "execution_count": 13,
   "id": "b183578d",
   "metadata": {},
   "outputs": [],
   "source": [
    "def main():\n",
    "    patients = []\n",
    "    num_patients = int(input(\"How many patients do you want to enter? \"))\n",
    "    \n",
    "    for _ in range(num_patients):\n",
    "        name = input(\"Enter patient name: \")\n",
    "        symptom = input(\"Enter patient symptom: \")\n",
    "        patients.append([name, symptom])\n",
    "\n",
    "    num_patients = len(patients)\n",
    "    similarity_matrix = np.zeros((num_patients, num_patients))\n",
    "    \n",
    "    # calculate similarity score\n",
    "    for i in range(num_patients):\n",
    "        for j in range(i + 1, num_patients):\n",
    "            score = compute_similarity(patients[i], patients[j])\n",
    "            similarity_matrix[i][j] = score[0][0]\n",
    "            similarity_matrix[j][i] = score[0][0]  # symmetric matrix\n",
    "\n",
    "    print(\"\\nSimilarity Scores:\")\n",
    "    for i in range(num_patients):\n",
    "        for j in range(i + 1, num_patients):\n",
    "            print(f\"Similarity between {patients[i][0]} and {patients[j][0]}: {similarity_matrix[i][j]:.4f}\")"
   ]
  },
  {
   "cell_type": "code",
   "execution_count": 16,
   "id": "a8f98847",
   "metadata": {},
   "outputs": [
    {
     "name": "stdout",
     "output_type": "stream",
     "text": [
      "How many patients do you want to enter? 3\n",
      "Enter patient name: joshsmith\n",
      "Enter patmain()ient symptom: sinusitis\n",
      "Enter patient name: janejones\n",
      "Enter patient symptom: hepatitis\n",
      "Enter patient name: joshsmithhh\n",
      "Enter patient symptom: hypotonia\n",
      "\n",
      "Similarity Scores:\n",
      "Similarity between joshsmith and janejones: 0.1234\n",
      "Similarity between joshsmith and joshsmithhh: 0.5678\n",
      "Similarity between janejones and joshsmithhh: 0.2345\n"
     ]
    }
   ],
   "source": [
    "main()"
   ]
  },
  {
   "cell_type": "code",
   "execution_count": null,
   "id": "b2a37362-35a2-4e09-82fd-833f24d63496",
   "metadata": {},
   "outputs": [],
   "source": []
  },
  {
   "cell_type": "code",
   "execution_count": null,
   "id": "90caf8c3-37bc-4876-a293-66b631645a80",
   "metadata": {},
   "outputs": [],
   "source": []
  },
  {
   "cell_type": "code",
   "execution_count": null,
   "id": "8143541f-65c3-44c1-bd84-f1e55531a921",
   "metadata": {},
   "outputs": [],
   "source": []
  }
 ],
 "metadata": {
  "kernelspec": {
   "display_name": "Python 3 (ipykernel)",
   "language": "python",
   "name": "python3"
  },
  "language_info": {
   "codemirror_mode": {
    "name": "ipython",
    "version": 3
   },
   "file_extension": ".py",
   "mimetype": "text/x-python",
   "name": "python",
   "nbconvert_exporter": "python",
   "pygments_lexer": "ipython3",
   "version": "3.11.3"
  }
 },
 "nbformat": 4,
 "nbformat_minor": 5
}
